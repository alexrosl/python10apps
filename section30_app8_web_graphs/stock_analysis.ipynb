{
 "cells": [
  {
   "cell_type": "code",
   "execution_count": 44,
   "metadata": {
    "collapsed": true
   },
   "outputs": [],
   "source": [
    "from datetime import datetime\n",
    "from pandas_datareader import data\n",
    "from bokeh.plotting import figure, show, output_file\n",
    "from bokeh.embed import components\n",
    "from bokeh.resources import CDN\n",
    "\n",
    "start = datetime(2015, 11, 1)\n",
    "end = datetime(2016, 3, 10)\n",
    "df = data.DataReader(name = \"GOOG\", data_source='yahoo', start=start, end=end)\n"
   ]
  },
  {
   "cell_type": "code",
   "execution_count": 45,
   "outputs": [],
   "source": [
    "def inc_dec(c, o):\n",
    "    if c > o:\n",
    "        value=\"Increase\"\n",
    "    elif c < o:\n",
    "        value = \"Decrease\"\n",
    "    else:\n",
    "        value = \"Equal\"\n",
    "    return value\n",
    "\n",
    "df[\"Status\"] = [inc_dec(c, o) for c, o in zip(df.Close, df.Open)]\n",
    "df[\"Middle\"] = (df.Open + df.Close)/2\n",
    "df[\"Height\"] = abs(df.Close - df.Open)"
   ],
   "metadata": {
    "collapsed": false,
    "pycharm": {
     "name": "#%%\n"
    }
   }
  },
  {
   "cell_type": "code",
   "execution_count": 47,
   "outputs": [],
   "source": [
    "p = figure(x_axis_type=\"datetime\", width=1000, height=300, sizing_mode=\"scale_width\")\n",
    "p.title.text = \"Candlestick Chart\"\n",
    "p.grid.grid_line_alpha = 0.3\n",
    "\n",
    "hours_12 = 12*60*60*1000\n",
    "\n",
    "p.segment(df.index, df.High, df.index, df.Low, color=\"black\")\n",
    "\n",
    "p.rect(df.index[df.Status == \"Increase\"],\n",
    "       df.Middle[df.Status == \"Increase\"],\n",
    "       hours_12,\n",
    "       df.Height[df.Status == \"Increase\"],\n",
    "       fill_color=\"#CCFFFF\",\n",
    "       line_color=\"black\")\n",
    "\n",
    "p.rect(df.index[df.Status == \"Decrease\"],\n",
    "       df.Middle[df.Status == \"Decrease\"],\n",
    "       hours_12,\n",
    "       df.Height[df.Status == \"Decrease\"],\n",
    "       fill_color=\"#FF3333\",\n",
    "       line_color=\"black\")\n",
    "\n",
    "script1, div1 = components(p)\n",
    "\n",
    "cdn_js = CDN.js_files\n",
    "cdn_css = CDN.css_files\n",
    "\n",
    "output_file(\"graph.html\")\n",
    "show(p)"
   ],
   "metadata": {
    "collapsed": false,
    "pycharm": {
     "name": "#%%\n"
    }
   }
  },
  {
   "cell_type": "code",
   "execution_count": null,
   "outputs": [],
   "source": [
    "\n"
   ],
   "metadata": {
    "collapsed": false,
    "pycharm": {
     "name": "#%%\n"
    }
   }
  }
 ],
 "metadata": {
  "kernelspec": {
   "display_name": "Python 3",
   "language": "python",
   "name": "python3"
  },
  "language_info": {
   "codemirror_mode": {
    "name": "ipython",
    "version": 2
   },
   "file_extension": ".py",
   "mimetype": "text/x-python",
   "name": "python",
   "nbconvert_exporter": "python",
   "pygments_lexer": "ipython2",
   "version": "2.7.6"
  }
 },
 "nbformat": 4,
 "nbformat_minor": 0
}