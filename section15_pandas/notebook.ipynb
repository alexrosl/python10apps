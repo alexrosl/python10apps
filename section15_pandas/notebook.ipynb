{
 "cells": [
  {
   "cell_type": "code",
   "execution_count": 33,
   "outputs": [
    {
     "data": {
      "text/plain": "['supermarkets-semi-colons.txt',\n 'supermarkets.csv',\n 'notebook.ipynb',\n 'supermarkets.xlsx',\n 'supermarkets.json',\n 'supermarkets-commas.txt']"
     },
     "execution_count": 33,
     "metadata": {},
     "output_type": "execute_result"
    }
   ],
   "source": [
    "import os\n",
    "os.listdir()"
   ],
   "metadata": {
    "collapsed": false,
    "pycharm": {
     "name": "#%%\n"
    }
   }
  },
  {
   "cell_type": "code",
   "execution_count": 34,
   "outputs": [],
   "source": [
    "import pandas\n",
    "\n"
   ],
   "metadata": {
    "collapsed": false,
    "pycharm": {
     "name": "#%%\n"
    }
   }
  },
  {
   "cell_type": "code",
   "execution_count": 49,
   "outputs": [
    {
     "data": {
      "text/plain": "   ID          Address           City             State Country         Name  \\\n0   1     3666 21st St  San Francisco          CA 94114     USA      Madeira   \n1   2   735 Dolores St  San Francisco          CA 94119     USA  Bready Shop   \n2   3      332 Hill St  San Francisco  California 94114     USA  Super River   \n3   4     3995 23rd St  San Francisco          CA 94114     USA   Ben's Shop   \n4   5  1056 Sanchez St  San Francisco        California     USA      Sanchez   \n5   6  551 Alvarado St  San Francisco          CA 94114     USA   Richvalley   \n\n   Employees  \n0          8  \n1         15  \n2         25  \n3         10  \n4         12  \n5         20  ",
      "text/html": "<div>\n<style scoped>\n    .dataframe tbody tr th:only-of-type {\n        vertical-align: middle;\n    }\n\n    .dataframe tbody tr th {\n        vertical-align: top;\n    }\n\n    .dataframe thead th {\n        text-align: right;\n    }\n</style>\n<table border=\"1\" class=\"dataframe\">\n  <thead>\n    <tr style=\"text-align: right;\">\n      <th></th>\n      <th>ID</th>\n      <th>Address</th>\n      <th>City</th>\n      <th>State</th>\n      <th>Country</th>\n      <th>Name</th>\n      <th>Employees</th>\n    </tr>\n  </thead>\n  <tbody>\n    <tr>\n      <th>0</th>\n      <td>1</td>\n      <td>3666 21st St</td>\n      <td>San Francisco</td>\n      <td>CA 94114</td>\n      <td>USA</td>\n      <td>Madeira</td>\n      <td>8</td>\n    </tr>\n    <tr>\n      <th>1</th>\n      <td>2</td>\n      <td>735 Dolores St</td>\n      <td>San Francisco</td>\n      <td>CA 94119</td>\n      <td>USA</td>\n      <td>Bready Shop</td>\n      <td>15</td>\n    </tr>\n    <tr>\n      <th>2</th>\n      <td>3</td>\n      <td>332 Hill St</td>\n      <td>San Francisco</td>\n      <td>California 94114</td>\n      <td>USA</td>\n      <td>Super River</td>\n      <td>25</td>\n    </tr>\n    <tr>\n      <th>3</th>\n      <td>4</td>\n      <td>3995 23rd St</td>\n      <td>San Francisco</td>\n      <td>CA 94114</td>\n      <td>USA</td>\n      <td>Ben's Shop</td>\n      <td>10</td>\n    </tr>\n    <tr>\n      <th>4</th>\n      <td>5</td>\n      <td>1056 Sanchez St</td>\n      <td>San Francisco</td>\n      <td>California</td>\n      <td>USA</td>\n      <td>Sanchez</td>\n      <td>12</td>\n    </tr>\n    <tr>\n      <th>5</th>\n      <td>6</td>\n      <td>551 Alvarado St</td>\n      <td>San Francisco</td>\n      <td>CA 94114</td>\n      <td>USA</td>\n      <td>Richvalley</td>\n      <td>20</td>\n    </tr>\n  </tbody>\n</table>\n</div>"
     },
     "execution_count": 49,
     "metadata": {},
     "output_type": "execute_result"
    }
   ],
   "source": [
    "df1 = pandas.read_csv(\"supermarkets.csv\", header=0)\n",
    "df1"
   ],
   "metadata": {
    "collapsed": false,
    "pycharm": {
     "name": "#%%\n"
    }
   }
  },
  {
   "cell_type": "code",
   "execution_count": 37,
   "outputs": [
    {
     "data": {
      "text/plain": "   ID          Address           City             State Country         Name  \\\n0   1     3666 21st St  San Francisco          CA 94114     USA      Madeira   \n1   2   735 Dolores St  San Francisco          CA 94119     USA  Bready Shop   \n2   3      332 Hill St  San Francisco  California 94114     USA  Super River   \n3   4     3995 23rd St  San Francisco          CA 94114     USA   Ben's Shop   \n4   5  1056 Sanchez St  San Francisco        California     USA      Sanchez   \n5   6  551 Alvarado St  San Francisco          CA 94114     USA   Richvalley   \n\n   Employees  \n0          8  \n1         15  \n2         25  \n3         10  \n4         12  \n5         20  ",
      "text/html": "<div>\n<style scoped>\n    .dataframe tbody tr th:only-of-type {\n        vertical-align: middle;\n    }\n\n    .dataframe tbody tr th {\n        vertical-align: top;\n    }\n\n    .dataframe thead th {\n        text-align: right;\n    }\n</style>\n<table border=\"1\" class=\"dataframe\">\n  <thead>\n    <tr style=\"text-align: right;\">\n      <th></th>\n      <th>ID</th>\n      <th>Address</th>\n      <th>City</th>\n      <th>State</th>\n      <th>Country</th>\n      <th>Name</th>\n      <th>Employees</th>\n    </tr>\n  </thead>\n  <tbody>\n    <tr>\n      <th>0</th>\n      <td>1</td>\n      <td>3666 21st St</td>\n      <td>San Francisco</td>\n      <td>CA 94114</td>\n      <td>USA</td>\n      <td>Madeira</td>\n      <td>8</td>\n    </tr>\n    <tr>\n      <th>1</th>\n      <td>2</td>\n      <td>735 Dolores St</td>\n      <td>San Francisco</td>\n      <td>CA 94119</td>\n      <td>USA</td>\n      <td>Bready Shop</td>\n      <td>15</td>\n    </tr>\n    <tr>\n      <th>2</th>\n      <td>3</td>\n      <td>332 Hill St</td>\n      <td>San Francisco</td>\n      <td>California 94114</td>\n      <td>USA</td>\n      <td>Super River</td>\n      <td>25</td>\n    </tr>\n    <tr>\n      <th>3</th>\n      <td>4</td>\n      <td>3995 23rd St</td>\n      <td>San Francisco</td>\n      <td>CA 94114</td>\n      <td>USA</td>\n      <td>Ben's Shop</td>\n      <td>10</td>\n    </tr>\n    <tr>\n      <th>4</th>\n      <td>5</td>\n      <td>1056 Sanchez St</td>\n      <td>San Francisco</td>\n      <td>California</td>\n      <td>USA</td>\n      <td>Sanchez</td>\n      <td>12</td>\n    </tr>\n    <tr>\n      <th>5</th>\n      <td>6</td>\n      <td>551 Alvarado St</td>\n      <td>San Francisco</td>\n      <td>CA 94114</td>\n      <td>USA</td>\n      <td>Richvalley</td>\n      <td>20</td>\n    </tr>\n  </tbody>\n</table>\n</div>"
     },
     "execution_count": 37,
     "metadata": {},
     "output_type": "execute_result"
    }
   ],
   "source": [
    "df2 = pandas.read_json(\"supermarkets.json\")\n",
    "df2"
   ],
   "metadata": {
    "collapsed": false,
    "pycharm": {
     "name": "#%%\n"
    }
   }
  },
  {
   "cell_type": "code",
   "execution_count": 41,
   "outputs": [
    {
     "data": {
      "text/plain": "   ID          Address           City             State Country  \\\n0   1     3666 21st St  San Francisco          CA 94114     USA   \n1   2   735 Dolores St  San Francisco          CA 94119     USA   \n2   3      332 Hill St  San Francisco  California 94114     USA   \n3   4     3995 23rd St  San Francisco          CA 94114     USA   \n4   5  1056 Sanchez St  San Francisco        California     USA   \n5   6  551 Alvarado St  San Francisco          CA 94114     USA   \n\n  Supermarket Name  Number of Employees  \n0          Madeira                    8  \n1      Bready Shop                   15  \n2      Super River                   25  \n3       Ben's Shop                   10  \n4          Sanchez                   12  \n5       Richvalley                   20  ",
      "text/html": "<div>\n<style scoped>\n    .dataframe tbody tr th:only-of-type {\n        vertical-align: middle;\n    }\n\n    .dataframe tbody tr th {\n        vertical-align: top;\n    }\n\n    .dataframe thead th {\n        text-align: right;\n    }\n</style>\n<table border=\"1\" class=\"dataframe\">\n  <thead>\n    <tr style=\"text-align: right;\">\n      <th></th>\n      <th>ID</th>\n      <th>Address</th>\n      <th>City</th>\n      <th>State</th>\n      <th>Country</th>\n      <th>Supermarket Name</th>\n      <th>Number of Employees</th>\n    </tr>\n  </thead>\n  <tbody>\n    <tr>\n      <th>0</th>\n      <td>1</td>\n      <td>3666 21st St</td>\n      <td>San Francisco</td>\n      <td>CA 94114</td>\n      <td>USA</td>\n      <td>Madeira</td>\n      <td>8</td>\n    </tr>\n    <tr>\n      <th>1</th>\n      <td>2</td>\n      <td>735 Dolores St</td>\n      <td>San Francisco</td>\n      <td>CA 94119</td>\n      <td>USA</td>\n      <td>Bready Shop</td>\n      <td>15</td>\n    </tr>\n    <tr>\n      <th>2</th>\n      <td>3</td>\n      <td>332 Hill St</td>\n      <td>San Francisco</td>\n      <td>California 94114</td>\n      <td>USA</td>\n      <td>Super River</td>\n      <td>25</td>\n    </tr>\n    <tr>\n      <th>3</th>\n      <td>4</td>\n      <td>3995 23rd St</td>\n      <td>San Francisco</td>\n      <td>CA 94114</td>\n      <td>USA</td>\n      <td>Ben's Shop</td>\n      <td>10</td>\n    </tr>\n    <tr>\n      <th>4</th>\n      <td>5</td>\n      <td>1056 Sanchez St</td>\n      <td>San Francisco</td>\n      <td>California</td>\n      <td>USA</td>\n      <td>Sanchez</td>\n      <td>12</td>\n    </tr>\n    <tr>\n      <th>5</th>\n      <td>6</td>\n      <td>551 Alvarado St</td>\n      <td>San Francisco</td>\n      <td>CA 94114</td>\n      <td>USA</td>\n      <td>Richvalley</td>\n      <td>20</td>\n    </tr>\n  </tbody>\n</table>\n</div>"
     },
     "execution_count": 41,
     "metadata": {},
     "output_type": "execute_result"
    }
   ],
   "source": [
    "df3 = pandas.read_excel(\"supermarkets.xlsx\", sheet_name=0)\n",
    "df3"
   ],
   "metadata": {
    "collapsed": false,
    "pycharm": {
     "name": "#%%\n"
    }
   }
  },
  {
   "cell_type": "code",
   "execution_count": 42,
   "outputs": [
    {
     "data": {
      "text/plain": "   ID          Address           City             State Country         Name  \\\n0   1     3666 21st St  San Francisco          CA 94114     USA      Madeira   \n1   2   735 Dolores St  San Francisco          CA 94119     USA  Bready Shop   \n2   3      332 Hill St  San Francisco  California 94114     USA  Super River   \n3   4     3995 23rd St  San Francisco          CA 94114     USA   Ben's Shop   \n4   5  1056 Sanchez St  San Francisco        California     USA      Sanchez   \n5   6  551 Alvarado St  San Francisco          CA 94114     USA   Richvalley   \n\n   Employees  \n0          8  \n1         15  \n2         25  \n3         10  \n4         12  \n5         20  ",
      "text/html": "<div>\n<style scoped>\n    .dataframe tbody tr th:only-of-type {\n        vertical-align: middle;\n    }\n\n    .dataframe tbody tr th {\n        vertical-align: top;\n    }\n\n    .dataframe thead th {\n        text-align: right;\n    }\n</style>\n<table border=\"1\" class=\"dataframe\">\n  <thead>\n    <tr style=\"text-align: right;\">\n      <th></th>\n      <th>ID</th>\n      <th>Address</th>\n      <th>City</th>\n      <th>State</th>\n      <th>Country</th>\n      <th>Name</th>\n      <th>Employees</th>\n    </tr>\n  </thead>\n  <tbody>\n    <tr>\n      <th>0</th>\n      <td>1</td>\n      <td>3666 21st St</td>\n      <td>San Francisco</td>\n      <td>CA 94114</td>\n      <td>USA</td>\n      <td>Madeira</td>\n      <td>8</td>\n    </tr>\n    <tr>\n      <th>1</th>\n      <td>2</td>\n      <td>735 Dolores St</td>\n      <td>San Francisco</td>\n      <td>CA 94119</td>\n      <td>USA</td>\n      <td>Bready Shop</td>\n      <td>15</td>\n    </tr>\n    <tr>\n      <th>2</th>\n      <td>3</td>\n      <td>332 Hill St</td>\n      <td>San Francisco</td>\n      <td>California 94114</td>\n      <td>USA</td>\n      <td>Super River</td>\n      <td>25</td>\n    </tr>\n    <tr>\n      <th>3</th>\n      <td>4</td>\n      <td>3995 23rd St</td>\n      <td>San Francisco</td>\n      <td>CA 94114</td>\n      <td>USA</td>\n      <td>Ben's Shop</td>\n      <td>10</td>\n    </tr>\n    <tr>\n      <th>4</th>\n      <td>5</td>\n      <td>1056 Sanchez St</td>\n      <td>San Francisco</td>\n      <td>California</td>\n      <td>USA</td>\n      <td>Sanchez</td>\n      <td>12</td>\n    </tr>\n    <tr>\n      <th>5</th>\n      <td>6</td>\n      <td>551 Alvarado St</td>\n      <td>San Francisco</td>\n      <td>CA 94114</td>\n      <td>USA</td>\n      <td>Richvalley</td>\n      <td>20</td>\n    </tr>\n  </tbody>\n</table>\n</div>"
     },
     "execution_count": 42,
     "metadata": {},
     "output_type": "execute_result"
    }
   ],
   "source": [
    "df4 = pandas.read_csv(\"supermarkets-commas.txt\")\n",
    "df4\n",
    "\n"
   ],
   "metadata": {
    "collapsed": false,
    "pycharm": {
     "name": "#%%\n"
    }
   }
  },
  {
   "cell_type": "code",
   "execution_count": 52,
   "outputs": [
    {
     "data": {
      "text/plain": "   ID          Address           City             State Country          Name  \\\n0   1     3666 21st St  San Francisco          CA 94114     USA       Madeira   \n1   2   735 Dolores St  San Francisco          CA 94119     USA   Bready Shop   \n2   3      332 Hill St  San Francisco  California 94114     USA   Super River   \n3   4     3995 23rd St  San Francisco          CA 94114     USA    Ben's Shop   \n4   5  1056 Sanchez St  San Francisco        California     USA       Sanchez   \n5   6  551 Alvarado St  San Francisco          CA 94114     USA    Richvalley   \n\n   Employees  \n0          8  \n1         15  \n2         25  \n3         10  \n4         12  \n5         20  ",
      "text/html": "<div>\n<style scoped>\n    .dataframe tbody tr th:only-of-type {\n        vertical-align: middle;\n    }\n\n    .dataframe tbody tr th {\n        vertical-align: top;\n    }\n\n    .dataframe thead th {\n        text-align: right;\n    }\n</style>\n<table border=\"1\" class=\"dataframe\">\n  <thead>\n    <tr style=\"text-align: right;\">\n      <th></th>\n      <th>ID</th>\n      <th>Address</th>\n      <th>City</th>\n      <th>State</th>\n      <th>Country</th>\n      <th>Name</th>\n      <th>Employees</th>\n    </tr>\n  </thead>\n  <tbody>\n    <tr>\n      <th>0</th>\n      <td>1</td>\n      <td>3666 21st St</td>\n      <td>San Francisco</td>\n      <td>CA 94114</td>\n      <td>USA</td>\n      <td>Madeira</td>\n      <td>8</td>\n    </tr>\n    <tr>\n      <th>1</th>\n      <td>2</td>\n      <td>735 Dolores St</td>\n      <td>San Francisco</td>\n      <td>CA 94119</td>\n      <td>USA</td>\n      <td>Bready Shop</td>\n      <td>15</td>\n    </tr>\n    <tr>\n      <th>2</th>\n      <td>3</td>\n      <td>332 Hill St</td>\n      <td>San Francisco</td>\n      <td>California 94114</td>\n      <td>USA</td>\n      <td>Super River</td>\n      <td>25</td>\n    </tr>\n    <tr>\n      <th>3</th>\n      <td>4</td>\n      <td>3995 23rd St</td>\n      <td>San Francisco</td>\n      <td>CA 94114</td>\n      <td>USA</td>\n      <td>Ben's Shop</td>\n      <td>10</td>\n    </tr>\n    <tr>\n      <th>4</th>\n      <td>5</td>\n      <td>1056 Sanchez St</td>\n      <td>San Francisco</td>\n      <td>California</td>\n      <td>USA</td>\n      <td>Sanchez</td>\n      <td>12</td>\n    </tr>\n    <tr>\n      <th>5</th>\n      <td>6</td>\n      <td>551 Alvarado St</td>\n      <td>San Francisco</td>\n      <td>CA 94114</td>\n      <td>USA</td>\n      <td>Richvalley</td>\n      <td>20</td>\n    </tr>\n  </tbody>\n</table>\n</div>"
     },
     "execution_count": 52,
     "metadata": {},
     "output_type": "execute_result"
    }
   ],
   "source": [
    "df5 = pandas.read_csv(\"supermarkets-semi-colons.txt\", sep=\";\")\n",
    "df5"
   ],
   "metadata": {
    "collapsed": false,
    "pycharm": {
     "name": "#%%\n"
    }
   }
  },
  {
   "cell_type": "code",
   "execution_count": 53,
   "outputs": [
    {
     "data": {
      "text/plain": "   ID          Address           City               ZIP  Country         Name  \\\n0  ID          Address           City             State  Country         Name   \n1   1     3666 21st St  San Francisco          CA 94114      USA      Madeira   \n2   2   735 Dolores St  San Francisco          CA 94119      USA  Bready Shop   \n3   3      332 Hill St  San Francisco  California 94114      USA  Super River   \n4   4     3995 23rd St  San Francisco          CA 94114      USA   Ben's Shop   \n5   5  1056 Sanchez St  San Francisco        California      USA      Sanchez   \n6   6  551 Alvarado St  San Francisco          CA 94114      USA   Richvalley   \n\n    employee  \n0  Employees  \n1          8  \n2         15  \n3         25  \n4         10  \n5         12  \n6         20  ",
      "text/html": "<div>\n<style scoped>\n    .dataframe tbody tr th:only-of-type {\n        vertical-align: middle;\n    }\n\n    .dataframe tbody tr th {\n        vertical-align: top;\n    }\n\n    .dataframe thead th {\n        text-align: right;\n    }\n</style>\n<table border=\"1\" class=\"dataframe\">\n  <thead>\n    <tr style=\"text-align: right;\">\n      <th></th>\n      <th>ID</th>\n      <th>Address</th>\n      <th>City</th>\n      <th>ZIP</th>\n      <th>Country</th>\n      <th>Name</th>\n      <th>employee</th>\n    </tr>\n  </thead>\n  <tbody>\n    <tr>\n      <th>0</th>\n      <td>ID</td>\n      <td>Address</td>\n      <td>City</td>\n      <td>State</td>\n      <td>Country</td>\n      <td>Name</td>\n      <td>Employees</td>\n    </tr>\n    <tr>\n      <th>1</th>\n      <td>1</td>\n      <td>3666 21st St</td>\n      <td>San Francisco</td>\n      <td>CA 94114</td>\n      <td>USA</td>\n      <td>Madeira</td>\n      <td>8</td>\n    </tr>\n    <tr>\n      <th>2</th>\n      <td>2</td>\n      <td>735 Dolores St</td>\n      <td>San Francisco</td>\n      <td>CA 94119</td>\n      <td>USA</td>\n      <td>Bready Shop</td>\n      <td>15</td>\n    </tr>\n    <tr>\n      <th>3</th>\n      <td>3</td>\n      <td>332 Hill St</td>\n      <td>San Francisco</td>\n      <td>California 94114</td>\n      <td>USA</td>\n      <td>Super River</td>\n      <td>25</td>\n    </tr>\n    <tr>\n      <th>4</th>\n      <td>4</td>\n      <td>3995 23rd St</td>\n      <td>San Francisco</td>\n      <td>CA 94114</td>\n      <td>USA</td>\n      <td>Ben's Shop</td>\n      <td>10</td>\n    </tr>\n    <tr>\n      <th>5</th>\n      <td>5</td>\n      <td>1056 Sanchez St</td>\n      <td>San Francisco</td>\n      <td>California</td>\n      <td>USA</td>\n      <td>Sanchez</td>\n      <td>12</td>\n    </tr>\n    <tr>\n      <th>6</th>\n      <td>6</td>\n      <td>551 Alvarado St</td>\n      <td>San Francisco</td>\n      <td>CA 94114</td>\n      <td>USA</td>\n      <td>Richvalley</td>\n      <td>20</td>\n    </tr>\n  </tbody>\n</table>\n</div>"
     },
     "execution_count": 53,
     "metadata": {},
     "output_type": "execute_result"
    }
   ],
   "source": [
    "#%Set column names manually%\n",
    "df6 = pandas.read_csv(\"supermarkets.csv\", header=None)\n",
    "df6.columns = [\"ID\", \"Address\", \"City\", \"ZIP\", \"Country\", \"Name\", \"employee\"]\n",
    "df6\n"
   ],
   "metadata": {
    "collapsed": false,
    "pycharm": {
     "name": "#%%\n"
    }
   }
  },
  {
   "cell_type": "code",
   "execution_count": 82,
   "outputs": [
    {
     "data": {
      "text/plain": "            Address           City             State Country         Name  \\\nID                                                                          \n1      3666 21st St  San Francisco          CA 94114     USA      Madeira   \n2    735 Dolores St  San Francisco          CA 94119     USA  Bready Shop   \n3       332 Hill St  San Francisco  California 94114     USA  Super River   \n4      3995 23rd St  San Francisco          CA 94114     USA   Ben's Shop   \n5   1056 Sanchez St  San Francisco        California     USA      Sanchez   \n6   551 Alvarado St  San Francisco          CA 94114     USA   Richvalley   \n\n    Employees  \nID             \n1           8  \n2          15  \n3          25  \n4          10  \n5          12  \n6          20  ",
      "text/html": "<div>\n<style scoped>\n    .dataframe tbody tr th:only-of-type {\n        vertical-align: middle;\n    }\n\n    .dataframe tbody tr th {\n        vertical-align: top;\n    }\n\n    .dataframe thead th {\n        text-align: right;\n    }\n</style>\n<table border=\"1\" class=\"dataframe\">\n  <thead>\n    <tr style=\"text-align: right;\">\n      <th></th>\n      <th>Address</th>\n      <th>City</th>\n      <th>State</th>\n      <th>Country</th>\n      <th>Name</th>\n      <th>Employees</th>\n    </tr>\n    <tr>\n      <th>ID</th>\n      <th></th>\n      <th></th>\n      <th></th>\n      <th></th>\n      <th></th>\n      <th></th>\n    </tr>\n  </thead>\n  <tbody>\n    <tr>\n      <th>1</th>\n      <td>3666 21st St</td>\n      <td>San Francisco</td>\n      <td>CA 94114</td>\n      <td>USA</td>\n      <td>Madeira</td>\n      <td>8</td>\n    </tr>\n    <tr>\n      <th>2</th>\n      <td>735 Dolores St</td>\n      <td>San Francisco</td>\n      <td>CA 94119</td>\n      <td>USA</td>\n      <td>Bready Shop</td>\n      <td>15</td>\n    </tr>\n    <tr>\n      <th>3</th>\n      <td>332 Hill St</td>\n      <td>San Francisco</td>\n      <td>California 94114</td>\n      <td>USA</td>\n      <td>Super River</td>\n      <td>25</td>\n    </tr>\n    <tr>\n      <th>4</th>\n      <td>3995 23rd St</td>\n      <td>San Francisco</td>\n      <td>CA 94114</td>\n      <td>USA</td>\n      <td>Ben's Shop</td>\n      <td>10</td>\n    </tr>\n    <tr>\n      <th>5</th>\n      <td>1056 Sanchez St</td>\n      <td>San Francisco</td>\n      <td>California</td>\n      <td>USA</td>\n      <td>Sanchez</td>\n      <td>12</td>\n    </tr>\n    <tr>\n      <th>6</th>\n      <td>551 Alvarado St</td>\n      <td>San Francisco</td>\n      <td>CA 94114</td>\n      <td>USA</td>\n      <td>Richvalley</td>\n      <td>20</td>\n    </tr>\n  </tbody>\n</table>\n</div>"
     },
     "execution_count": 82,
     "metadata": {},
     "output_type": "execute_result"
    }
   ],
   "source": [
    "df7 = pandas.read_csv(\"supermarkets.csv\")\n",
    "df8 = df7.set_index(\"ID\", drop=True)\n",
    "df8"
   ],
   "metadata": {
    "collapsed": false,
    "pycharm": {
     "name": "#%%\n"
    }
   }
  },
  {
   "cell_type": "code",
   "execution_count": 59,
   "outputs": [
    {
     "data": {
      "text/plain": "             City       State Country\nID                                   \n4   San Francisco    CA 94114     USA\n5   San Francisco  California     USA\n6   San Francisco    CA 94114     USA",
      "text/html": "<div>\n<style scoped>\n    .dataframe tbody tr th:only-of-type {\n        vertical-align: middle;\n    }\n\n    .dataframe tbody tr th {\n        vertical-align: top;\n    }\n\n    .dataframe thead th {\n        text-align: right;\n    }\n</style>\n<table border=\"1\" class=\"dataframe\">\n  <thead>\n    <tr style=\"text-align: right;\">\n      <th></th>\n      <th>City</th>\n      <th>State</th>\n      <th>Country</th>\n    </tr>\n    <tr>\n      <th>ID</th>\n      <th></th>\n      <th></th>\n      <th></th>\n    </tr>\n  </thead>\n  <tbody>\n    <tr>\n      <th>4</th>\n      <td>San Francisco</td>\n      <td>CA 94114</td>\n      <td>USA</td>\n    </tr>\n    <tr>\n      <th>5</th>\n      <td>San Francisco</td>\n      <td>California</td>\n      <td>USA</td>\n    </tr>\n    <tr>\n      <th>6</th>\n      <td>San Francisco</td>\n      <td>CA 94114</td>\n      <td>USA</td>\n    </tr>\n  </tbody>\n</table>\n</div>"
     },
     "execution_count": 59,
     "metadata": {},
     "output_type": "execute_result"
    }
   ],
   "source": [
    "df8.loc[\"4\":\"6\", \"City\": \"Country\"]"
   ],
   "metadata": {
    "collapsed": false,
    "pycharm": {
     "name": "#%%\n"
    }
   }
  },
  {
   "cell_type": "code",
   "execution_count": 62,
   "outputs": [
    {
     "data": {
      "text/plain": "'1056 Sanchez St'"
     },
     "execution_count": 62,
     "metadata": {},
     "output_type": "execute_result"
    }
   ],
   "source": [
    "df8.loc[5, \"Address\"]"
   ],
   "metadata": {
    "collapsed": false,
    "pycharm": {
     "name": "#%%\n"
    }
   }
  },
  {
   "cell_type": "code",
   "execution_count": 67,
   "outputs": [
    {
     "data": {
      "text/plain": "           Address           City             State Country\nID                                                         \n1     3666 21st St  San Francisco          CA 94114     USA\n2   735 Dolores St  San Francisco          CA 94119     USA\n3      332 Hill St  San Francisco  California 94114     USA",
      "text/html": "<div>\n<style scoped>\n    .dataframe tbody tr th:only-of-type {\n        vertical-align: middle;\n    }\n\n    .dataframe tbody tr th {\n        vertical-align: top;\n    }\n\n    .dataframe thead th {\n        text-align: right;\n    }\n</style>\n<table border=\"1\" class=\"dataframe\">\n  <thead>\n    <tr style=\"text-align: right;\">\n      <th></th>\n      <th>Address</th>\n      <th>City</th>\n      <th>State</th>\n      <th>Country</th>\n    </tr>\n    <tr>\n      <th>ID</th>\n      <th></th>\n      <th></th>\n      <th></th>\n      <th></th>\n    </tr>\n  </thead>\n  <tbody>\n    <tr>\n      <th>1</th>\n      <td>3666 21st St</td>\n      <td>San Francisco</td>\n      <td>CA 94114</td>\n      <td>USA</td>\n    </tr>\n    <tr>\n      <th>2</th>\n      <td>735 Dolores St</td>\n      <td>San Francisco</td>\n      <td>CA 94119</td>\n      <td>USA</td>\n    </tr>\n    <tr>\n      <th>3</th>\n      <td>332 Hill St</td>\n      <td>San Francisco</td>\n      <td>California 94114</td>\n      <td>USA</td>\n    </tr>\n  </tbody>\n</table>\n</div>"
     },
     "execution_count": 67,
     "metadata": {},
     "output_type": "execute_result"
    }
   ],
   "source": [
    "df8.iloc[:3,1:5]"
   ],
   "metadata": {
    "collapsed": false,
    "pycharm": {
     "name": "#%%\n"
    }
   }
  },
  {
   "cell_type": "code",
   "execution_count": 70,
   "outputs": [
    {
     "data": {
      "text/plain": "    ID          Address             State Country         Name  Employees\nID                                                                       \n1    1     3666 21st St          CA 94114     USA      Madeira          8\n2    2   735 Dolores St          CA 94119     USA  Bready Shop         15\n3    3      332 Hill St  California 94114     USA  Super River         25\n4    4     3995 23rd St          CA 94114     USA   Ben's Shop         10\n5    5  1056 Sanchez St        California     USA      Sanchez         12\n6    6  551 Alvarado St          CA 94114     USA   Richvalley         20",
      "text/html": "<div>\n<style scoped>\n    .dataframe tbody tr th:only-of-type {\n        vertical-align: middle;\n    }\n\n    .dataframe tbody tr th {\n        vertical-align: top;\n    }\n\n    .dataframe thead th {\n        text-align: right;\n    }\n</style>\n<table border=\"1\" class=\"dataframe\">\n  <thead>\n    <tr style=\"text-align: right;\">\n      <th></th>\n      <th>ID</th>\n      <th>Address</th>\n      <th>State</th>\n      <th>Country</th>\n      <th>Name</th>\n      <th>Employees</th>\n    </tr>\n    <tr>\n      <th>ID</th>\n      <th></th>\n      <th></th>\n      <th></th>\n      <th></th>\n      <th></th>\n      <th></th>\n    </tr>\n  </thead>\n  <tbody>\n    <tr>\n      <th>1</th>\n      <td>1</td>\n      <td>3666 21st St</td>\n      <td>CA 94114</td>\n      <td>USA</td>\n      <td>Madeira</td>\n      <td>8</td>\n    </tr>\n    <tr>\n      <th>2</th>\n      <td>2</td>\n      <td>735 Dolores St</td>\n      <td>CA 94119</td>\n      <td>USA</td>\n      <td>Bready Shop</td>\n      <td>15</td>\n    </tr>\n    <tr>\n      <th>3</th>\n      <td>3</td>\n      <td>332 Hill St</td>\n      <td>California 94114</td>\n      <td>USA</td>\n      <td>Super River</td>\n      <td>25</td>\n    </tr>\n    <tr>\n      <th>4</th>\n      <td>4</td>\n      <td>3995 23rd St</td>\n      <td>CA 94114</td>\n      <td>USA</td>\n      <td>Ben's Shop</td>\n      <td>10</td>\n    </tr>\n    <tr>\n      <th>5</th>\n      <td>5</td>\n      <td>1056 Sanchez St</td>\n      <td>California</td>\n      <td>USA</td>\n      <td>Sanchez</td>\n      <td>12</td>\n    </tr>\n    <tr>\n      <th>6</th>\n      <td>6</td>\n      <td>551 Alvarado St</td>\n      <td>CA 94114</td>\n      <td>USA</td>\n      <td>Richvalley</td>\n      <td>20</td>\n    </tr>\n  </tbody>\n</table>\n</div>"
     },
     "execution_count": 70,
     "metadata": {},
     "output_type": "execute_result"
    }
   ],
   "source": [
    "df8.drop(\"City\", axis=1)"
   ],
   "metadata": {
    "collapsed": false,
    "pycharm": {
     "name": "#%%\n"
    }
   }
  },
  {
   "cell_type": "code",
   "execution_count": 74,
   "outputs": [
    {
     "data": {
      "text/plain": "    ID          Address           City       State Country         Name  \\\nID                                                                        \n1    1     3666 21st St  San Francisco    CA 94114     USA      Madeira   \n2    2   735 Dolores St  San Francisco    CA 94119     USA  Bready Shop   \n4    4     3995 23rd St  San Francisco    CA 94114     USA   Ben's Shop   \n5    5  1056 Sanchez St  San Francisco  California     USA      Sanchez   \n6    6  551 Alvarado St  San Francisco    CA 94114     USA   Richvalley   \n\n    Employees  \nID             \n1           8  \n2          15  \n4          10  \n5          12  \n6          20  ",
      "text/html": "<div>\n<style scoped>\n    .dataframe tbody tr th:only-of-type {\n        vertical-align: middle;\n    }\n\n    .dataframe tbody tr th {\n        vertical-align: top;\n    }\n\n    .dataframe thead th {\n        text-align: right;\n    }\n</style>\n<table border=\"1\" class=\"dataframe\">\n  <thead>\n    <tr style=\"text-align: right;\">\n      <th></th>\n      <th>ID</th>\n      <th>Address</th>\n      <th>City</th>\n      <th>State</th>\n      <th>Country</th>\n      <th>Name</th>\n      <th>Employees</th>\n    </tr>\n    <tr>\n      <th>ID</th>\n      <th></th>\n      <th></th>\n      <th></th>\n      <th></th>\n      <th></th>\n      <th></th>\n      <th></th>\n    </tr>\n  </thead>\n  <tbody>\n    <tr>\n      <th>1</th>\n      <td>1</td>\n      <td>3666 21st St</td>\n      <td>San Francisco</td>\n      <td>CA 94114</td>\n      <td>USA</td>\n      <td>Madeira</td>\n      <td>8</td>\n    </tr>\n    <tr>\n      <th>2</th>\n      <td>2</td>\n      <td>735 Dolores St</td>\n      <td>San Francisco</td>\n      <td>CA 94119</td>\n      <td>USA</td>\n      <td>Bready Shop</td>\n      <td>15</td>\n    </tr>\n    <tr>\n      <th>4</th>\n      <td>4</td>\n      <td>3995 23rd St</td>\n      <td>San Francisco</td>\n      <td>CA 94114</td>\n      <td>USA</td>\n      <td>Ben's Shop</td>\n      <td>10</td>\n    </tr>\n    <tr>\n      <th>5</th>\n      <td>5</td>\n      <td>1056 Sanchez St</td>\n      <td>San Francisco</td>\n      <td>California</td>\n      <td>USA</td>\n      <td>Sanchez</td>\n      <td>12</td>\n    </tr>\n    <tr>\n      <th>6</th>\n      <td>6</td>\n      <td>551 Alvarado St</td>\n      <td>San Francisco</td>\n      <td>CA 94114</td>\n      <td>USA</td>\n      <td>Richvalley</td>\n      <td>20</td>\n    </tr>\n  </tbody>\n</table>\n</div>"
     },
     "execution_count": 74,
     "metadata": {},
     "output_type": "execute_result"
    }
   ],
   "source": [
    "df8.drop(3, 0)"
   ],
   "metadata": {
    "collapsed": false,
    "pycharm": {
     "name": "#%%\n"
    }
   }
  },
  {
   "cell_type": "code",
   "execution_count": 76,
   "outputs": [
    {
     "data": {
      "text/plain": "    ID          Address           City       State Country        Name  \\\nID                                                                       \n4    4     3995 23rd St  San Francisco    CA 94114     USA  Ben's Shop   \n5    5  1056 Sanchez St  San Francisco  California     USA     Sanchez   \n6    6  551 Alvarado St  San Francisco    CA 94114     USA  Richvalley   \n\n    Employees  \nID             \n4          10  \n5          12  \n6          20  ",
      "text/html": "<div>\n<style scoped>\n    .dataframe tbody tr th:only-of-type {\n        vertical-align: middle;\n    }\n\n    .dataframe tbody tr th {\n        vertical-align: top;\n    }\n\n    .dataframe thead th {\n        text-align: right;\n    }\n</style>\n<table border=\"1\" class=\"dataframe\">\n  <thead>\n    <tr style=\"text-align: right;\">\n      <th></th>\n      <th>ID</th>\n      <th>Address</th>\n      <th>City</th>\n      <th>State</th>\n      <th>Country</th>\n      <th>Name</th>\n      <th>Employees</th>\n    </tr>\n    <tr>\n      <th>ID</th>\n      <th></th>\n      <th></th>\n      <th></th>\n      <th></th>\n      <th></th>\n      <th></th>\n      <th></th>\n    </tr>\n  </thead>\n  <tbody>\n    <tr>\n      <th>4</th>\n      <td>4</td>\n      <td>3995 23rd St</td>\n      <td>San Francisco</td>\n      <td>CA 94114</td>\n      <td>USA</td>\n      <td>Ben's Shop</td>\n      <td>10</td>\n    </tr>\n    <tr>\n      <th>5</th>\n      <td>5</td>\n      <td>1056 Sanchez St</td>\n      <td>San Francisco</td>\n      <td>California</td>\n      <td>USA</td>\n      <td>Sanchez</td>\n      <td>12</td>\n    </tr>\n    <tr>\n      <th>6</th>\n      <td>6</td>\n      <td>551 Alvarado St</td>\n      <td>San Francisco</td>\n      <td>CA 94114</td>\n      <td>USA</td>\n      <td>Richvalley</td>\n      <td>20</td>\n    </tr>\n  </tbody>\n</table>\n</div>"
     },
     "execution_count": 76,
     "metadata": {},
     "output_type": "execute_result"
    }
   ],
   "source": [
    "df8.drop(df8.index[0:3], 0)"
   ],
   "metadata": {
    "collapsed": false,
    "pycharm": {
     "name": "#%%\n"
    }
   }
  },
  {
   "cell_type": "code",
   "execution_count": 77,
   "outputs": [
    {
     "data": {
      "text/plain": "               State Country         Name  Employees\nID                                                  \n1           CA 94114     USA      Madeira          8\n2           CA 94119     USA  Bready Shop         15\n3   California 94114     USA  Super River         25\n4           CA 94114     USA   Ben's Shop         10\n5         California     USA      Sanchez         12\n6           CA 94114     USA   Richvalley         20",
      "text/html": "<div>\n<style scoped>\n    .dataframe tbody tr th:only-of-type {\n        vertical-align: middle;\n    }\n\n    .dataframe tbody tr th {\n        vertical-align: top;\n    }\n\n    .dataframe thead th {\n        text-align: right;\n    }\n</style>\n<table border=\"1\" class=\"dataframe\">\n  <thead>\n    <tr style=\"text-align: right;\">\n      <th></th>\n      <th>State</th>\n      <th>Country</th>\n      <th>Name</th>\n      <th>Employees</th>\n    </tr>\n    <tr>\n      <th>ID</th>\n      <th></th>\n      <th></th>\n      <th></th>\n      <th></th>\n    </tr>\n  </thead>\n  <tbody>\n    <tr>\n      <th>1</th>\n      <td>CA 94114</td>\n      <td>USA</td>\n      <td>Madeira</td>\n      <td>8</td>\n    </tr>\n    <tr>\n      <th>2</th>\n      <td>CA 94119</td>\n      <td>USA</td>\n      <td>Bready Shop</td>\n      <td>15</td>\n    </tr>\n    <tr>\n      <th>3</th>\n      <td>California 94114</td>\n      <td>USA</td>\n      <td>Super River</td>\n      <td>25</td>\n    </tr>\n    <tr>\n      <th>4</th>\n      <td>CA 94114</td>\n      <td>USA</td>\n      <td>Ben's Shop</td>\n      <td>10</td>\n    </tr>\n    <tr>\n      <th>5</th>\n      <td>California</td>\n      <td>USA</td>\n      <td>Sanchez</td>\n      <td>12</td>\n    </tr>\n    <tr>\n      <th>6</th>\n      <td>CA 94114</td>\n      <td>USA</td>\n      <td>Richvalley</td>\n      <td>20</td>\n    </tr>\n  </tbody>\n</table>\n</div>"
     },
     "execution_count": 77,
     "metadata": {},
     "output_type": "execute_result"
    }
   ],
   "source": [
    "df8.drop(df8.columns[0:3], 1)"
   ],
   "metadata": {
    "collapsed": false,
    "pycharm": {
     "name": "#%%\n"
    }
   }
  },
  {
   "cell_type": "code",
   "execution_count": 80,
   "outputs": [
    {
     "data": {
      "text/plain": "    ID          Address           City             State Country         Name  \\\nID                                                                              \n1    1     3666 21st St  San Francisco          CA 94114     USA      Madeira   \n2    2   735 Dolores St  San Francisco          CA 94119     USA  Bready Shop   \n3    3      332 Hill St  San Francisco  California 94114     USA  Super River   \n4    4     3995 23rd St  San Francisco          CA 94114     USA   Ben's Shop   \n5    5  1056 Sanchez St  San Francisco        California     USA      Sanchez   \n6    6  551 Alvarado St  San Francisco          CA 94114     USA   Richvalley   \n\n    Employees      Continent  \nID                            \n1           8  North America  \n2          15  North America  \n3          25  North America  \n4          10  North America  \n5          12  North America  \n6          20  North America  ",
      "text/html": "<div>\n<style scoped>\n    .dataframe tbody tr th:only-of-type {\n        vertical-align: middle;\n    }\n\n    .dataframe tbody tr th {\n        vertical-align: top;\n    }\n\n    .dataframe thead th {\n        text-align: right;\n    }\n</style>\n<table border=\"1\" class=\"dataframe\">\n  <thead>\n    <tr style=\"text-align: right;\">\n      <th></th>\n      <th>ID</th>\n      <th>Address</th>\n      <th>City</th>\n      <th>State</th>\n      <th>Country</th>\n      <th>Name</th>\n      <th>Employees</th>\n      <th>Continent</th>\n    </tr>\n    <tr>\n      <th>ID</th>\n      <th></th>\n      <th></th>\n      <th></th>\n      <th></th>\n      <th></th>\n      <th></th>\n      <th></th>\n      <th></th>\n    </tr>\n  </thead>\n  <tbody>\n    <tr>\n      <th>1</th>\n      <td>1</td>\n      <td>3666 21st St</td>\n      <td>San Francisco</td>\n      <td>CA 94114</td>\n      <td>USA</td>\n      <td>Madeira</td>\n      <td>8</td>\n      <td>North America</td>\n    </tr>\n    <tr>\n      <th>2</th>\n      <td>2</td>\n      <td>735 Dolores St</td>\n      <td>San Francisco</td>\n      <td>CA 94119</td>\n      <td>USA</td>\n      <td>Bready Shop</td>\n      <td>15</td>\n      <td>North America</td>\n    </tr>\n    <tr>\n      <th>3</th>\n      <td>3</td>\n      <td>332 Hill St</td>\n      <td>San Francisco</td>\n      <td>California 94114</td>\n      <td>USA</td>\n      <td>Super River</td>\n      <td>25</td>\n      <td>North America</td>\n    </tr>\n    <tr>\n      <th>4</th>\n      <td>4</td>\n      <td>3995 23rd St</td>\n      <td>San Francisco</td>\n      <td>CA 94114</td>\n      <td>USA</td>\n      <td>Ben's Shop</td>\n      <td>10</td>\n      <td>North America</td>\n    </tr>\n    <tr>\n      <th>5</th>\n      <td>5</td>\n      <td>1056 Sanchez St</td>\n      <td>San Francisco</td>\n      <td>California</td>\n      <td>USA</td>\n      <td>Sanchez</td>\n      <td>12</td>\n      <td>North America</td>\n    </tr>\n    <tr>\n      <th>6</th>\n      <td>6</td>\n      <td>551 Alvarado St</td>\n      <td>San Francisco</td>\n      <td>CA 94114</td>\n      <td>USA</td>\n      <td>Richvalley</td>\n      <td>20</td>\n      <td>North America</td>\n    </tr>\n  </tbody>\n</table>\n</div>"
     },
     "execution_count": 80,
     "metadata": {},
     "output_type": "execute_result"
    }
   ],
   "source": [
    "df8[\"Continent\"] = df8.shape[0] * [\"North America\"]\n",
    "df8"
   ],
   "metadata": {
    "collapsed": false,
    "pycharm": {
     "name": "#%%\n"
    }
   }
  },
  {
   "cell_type": "code",
   "execution_count": 83,
   "outputs": [
    {
     "data": {
      "text/plain": "            Address           City             State Country         Name  \\\nID                                                                          \n1      3666 21st St  San Francisco          CA 94114     USA      Madeira   \n2    735 Dolores St  San Francisco          CA 94119     USA  Bready Shop   \n3       332 Hill St  San Francisco  California 94114     USA  Super River   \n4      3995 23rd St  San Francisco          CA 94114     USA   Ben's Shop   \n5   1056 Sanchez St  San Francisco        California     USA      Sanchez   \n6   551 Alvarado St  San Francisco          CA 94114     USA   Richvalley   \n\n    Employees          Continent  \nID                                \n1           8  USA,North America  \n2          15  USA,North America  \n3          25  USA,North America  \n4          10  USA,North America  \n5          12  USA,North America  \n6          20  USA,North America  ",
      "text/html": "<div>\n<style scoped>\n    .dataframe tbody tr th:only-of-type {\n        vertical-align: middle;\n    }\n\n    .dataframe tbody tr th {\n        vertical-align: top;\n    }\n\n    .dataframe thead th {\n        text-align: right;\n    }\n</style>\n<table border=\"1\" class=\"dataframe\">\n  <thead>\n    <tr style=\"text-align: right;\">\n      <th></th>\n      <th>Address</th>\n      <th>City</th>\n      <th>State</th>\n      <th>Country</th>\n      <th>Name</th>\n      <th>Employees</th>\n      <th>Continent</th>\n    </tr>\n    <tr>\n      <th>ID</th>\n      <th></th>\n      <th></th>\n      <th></th>\n      <th></th>\n      <th></th>\n      <th></th>\n      <th></th>\n    </tr>\n  </thead>\n  <tbody>\n    <tr>\n      <th>1</th>\n      <td>3666 21st St</td>\n      <td>San Francisco</td>\n      <td>CA 94114</td>\n      <td>USA</td>\n      <td>Madeira</td>\n      <td>8</td>\n      <td>USA,North America</td>\n    </tr>\n    <tr>\n      <th>2</th>\n      <td>735 Dolores St</td>\n      <td>San Francisco</td>\n      <td>CA 94119</td>\n      <td>USA</td>\n      <td>Bready Shop</td>\n      <td>15</td>\n      <td>USA,North America</td>\n    </tr>\n    <tr>\n      <th>3</th>\n      <td>332 Hill St</td>\n      <td>San Francisco</td>\n      <td>California 94114</td>\n      <td>USA</td>\n      <td>Super River</td>\n      <td>25</td>\n      <td>USA,North America</td>\n    </tr>\n    <tr>\n      <th>4</th>\n      <td>3995 23rd St</td>\n      <td>San Francisco</td>\n      <td>CA 94114</td>\n      <td>USA</td>\n      <td>Ben's Shop</td>\n      <td>10</td>\n      <td>USA,North America</td>\n    </tr>\n    <tr>\n      <th>5</th>\n      <td>1056 Sanchez St</td>\n      <td>San Francisco</td>\n      <td>California</td>\n      <td>USA</td>\n      <td>Sanchez</td>\n      <td>12</td>\n      <td>USA,North America</td>\n    </tr>\n    <tr>\n      <th>6</th>\n      <td>551 Alvarado St</td>\n      <td>San Francisco</td>\n      <td>CA 94114</td>\n      <td>USA</td>\n      <td>Richvalley</td>\n      <td>20</td>\n      <td>USA,North America</td>\n    </tr>\n  </tbody>\n</table>\n</div>"
     },
     "execution_count": 83,
     "metadata": {},
     "output_type": "execute_result"
    }
   ],
   "source": [
    "df8['Continent']=df8[\"Country\"] + \",\" + \"North America\"\n",
    "df8"
   ],
   "metadata": {
    "collapsed": false,
    "pycharm": {
     "name": "#%%\n"
    }
   }
  },
  {
   "cell_type": "code",
   "execution_count": 84,
   "outputs": [
    {
     "data": {
      "text/plain": "ID                         1                  2                  3  \\\nAddress         3666 21st St     735 Dolores St        332 Hill St   \nCity           San Francisco      San Francisco      San Francisco   \nState               CA 94114           CA 94119   California 94114   \nCountry                  USA                USA                USA   \nName                 Madeira        Bready Shop        Super River   \nEmployees                  8                 15                 25   \nContinent  USA,North America  USA,North America  USA,North America   \n\nID                         4                  5                  6  \nAddress         3995 23rd St    1056 Sanchez St    551 Alvarado St  \nCity           San Francisco      San Francisco      San Francisco  \nState               CA 94114         California           CA 94114  \nCountry                  USA                USA                USA  \nName              Ben's Shop            Sanchez         Richvalley  \nEmployees                 10                 12                 20  \nContinent  USA,North America  USA,North America  USA,North America  ",
      "text/html": "<div>\n<style scoped>\n    .dataframe tbody tr th:only-of-type {\n        vertical-align: middle;\n    }\n\n    .dataframe tbody tr th {\n        vertical-align: top;\n    }\n\n    .dataframe thead th {\n        text-align: right;\n    }\n</style>\n<table border=\"1\" class=\"dataframe\">\n  <thead>\n    <tr style=\"text-align: right;\">\n      <th>ID</th>\n      <th>1</th>\n      <th>2</th>\n      <th>3</th>\n      <th>4</th>\n      <th>5</th>\n      <th>6</th>\n    </tr>\n  </thead>\n  <tbody>\n    <tr>\n      <th>Address</th>\n      <td>3666 21st St</td>\n      <td>735 Dolores St</td>\n      <td>332 Hill St</td>\n      <td>3995 23rd St</td>\n      <td>1056 Sanchez St</td>\n      <td>551 Alvarado St</td>\n    </tr>\n    <tr>\n      <th>City</th>\n      <td>San Francisco</td>\n      <td>San Francisco</td>\n      <td>San Francisco</td>\n      <td>San Francisco</td>\n      <td>San Francisco</td>\n      <td>San Francisco</td>\n    </tr>\n    <tr>\n      <th>State</th>\n      <td>CA 94114</td>\n      <td>CA 94119</td>\n      <td>California 94114</td>\n      <td>CA 94114</td>\n      <td>California</td>\n      <td>CA 94114</td>\n    </tr>\n    <tr>\n      <th>Country</th>\n      <td>USA</td>\n      <td>USA</td>\n      <td>USA</td>\n      <td>USA</td>\n      <td>USA</td>\n      <td>USA</td>\n    </tr>\n    <tr>\n      <th>Name</th>\n      <td>Madeira</td>\n      <td>Bready Shop</td>\n      <td>Super River</td>\n      <td>Ben's Shop</td>\n      <td>Sanchez</td>\n      <td>Richvalley</td>\n    </tr>\n    <tr>\n      <th>Employees</th>\n      <td>8</td>\n      <td>15</td>\n      <td>25</td>\n      <td>10</td>\n      <td>12</td>\n      <td>20</td>\n    </tr>\n    <tr>\n      <th>Continent</th>\n      <td>USA,North America</td>\n      <td>USA,North America</td>\n      <td>USA,North America</td>\n      <td>USA,North America</td>\n      <td>USA,North America</td>\n      <td>USA,North America</td>\n    </tr>\n  </tbody>\n</table>\n</div>"
     },
     "execution_count": 84,
     "metadata": {},
     "output_type": "execute_result"
    }
   ],
   "source": [
    "df8_temp=df8.T #transpose\n",
    "df8_temp"
   ],
   "metadata": {
    "collapsed": false,
    "pycharm": {
     "name": "#%%\n"
    }
   }
  },
  {
   "cell_type": "code",
   "execution_count": 86,
   "outputs": [
    {
     "data": {
      "text/plain": "ID                         1                  2                  3  \\\nAddress         3666 21st St     735 Dolores St        332 Hill St   \nCity           San Francisco      San Francisco      San Francisco   \nState               CA 94114           CA 94119   California 94114   \nCountry                  USA                USA                USA   \nName                 Madeira        Bready Shop        Super River   \nEmployees                  8                 15                 25   \nContinent  USA,North America  USA,North America  USA,North America   \n\nID                         4                  5                  6  \\\nAddress         3995 23rd St    1056 Sanchez St    551 Alvarado St   \nCity           San Francisco      San Francisco      San Francisco   \nState               CA 94114         California           CA 94114   \nCountry                  USA                USA                USA   \nName              Ben's Shop            Sanchez         Richvalley   \nEmployees                 10                 12                 20   \nContinent  USA,North America  USA,North America  USA,North America   \n\nID           My Address  \nAddress         My City  \nCity         My Country  \nState                10  \nCountry               7  \nName            My Shop  \nEmployees      My state  \nContinent  My continent  ",
      "text/html": "<div>\n<style scoped>\n    .dataframe tbody tr th:only-of-type {\n        vertical-align: middle;\n    }\n\n    .dataframe tbody tr th {\n        vertical-align: top;\n    }\n\n    .dataframe thead th {\n        text-align: right;\n    }\n</style>\n<table border=\"1\" class=\"dataframe\">\n  <thead>\n    <tr style=\"text-align: right;\">\n      <th>ID</th>\n      <th>1</th>\n      <th>2</th>\n      <th>3</th>\n      <th>4</th>\n      <th>5</th>\n      <th>6</th>\n      <th>My Address</th>\n    </tr>\n  </thead>\n  <tbody>\n    <tr>\n      <th>Address</th>\n      <td>3666 21st St</td>\n      <td>735 Dolores St</td>\n      <td>332 Hill St</td>\n      <td>3995 23rd St</td>\n      <td>1056 Sanchez St</td>\n      <td>551 Alvarado St</td>\n      <td>My City</td>\n    </tr>\n    <tr>\n      <th>City</th>\n      <td>San Francisco</td>\n      <td>San Francisco</td>\n      <td>San Francisco</td>\n      <td>San Francisco</td>\n      <td>San Francisco</td>\n      <td>San Francisco</td>\n      <td>My Country</td>\n    </tr>\n    <tr>\n      <th>State</th>\n      <td>CA 94114</td>\n      <td>CA 94119</td>\n      <td>California 94114</td>\n      <td>CA 94114</td>\n      <td>California</td>\n      <td>CA 94114</td>\n      <td>10</td>\n    </tr>\n    <tr>\n      <th>Country</th>\n      <td>USA</td>\n      <td>USA</td>\n      <td>USA</td>\n      <td>USA</td>\n      <td>USA</td>\n      <td>USA</td>\n      <td>7</td>\n    </tr>\n    <tr>\n      <th>Name</th>\n      <td>Madeira</td>\n      <td>Bready Shop</td>\n      <td>Super River</td>\n      <td>Ben's Shop</td>\n      <td>Sanchez</td>\n      <td>Richvalley</td>\n      <td>My Shop</td>\n    </tr>\n    <tr>\n      <th>Employees</th>\n      <td>8</td>\n      <td>15</td>\n      <td>25</td>\n      <td>10</td>\n      <td>12</td>\n      <td>20</td>\n      <td>My state</td>\n    </tr>\n    <tr>\n      <th>Continent</th>\n      <td>USA,North America</td>\n      <td>USA,North America</td>\n      <td>USA,North America</td>\n      <td>USA,North America</td>\n      <td>USA,North America</td>\n      <td>USA,North America</td>\n      <td>My continent</td>\n    </tr>\n  </tbody>\n</table>\n</div>"
     },
     "execution_count": 86,
     "metadata": {},
     "output_type": "execute_result"
    }
   ],
   "source": [
    "df8_temp[\"My Address\"]=[\"My City\", \"My Country\", 10, 7, \"My Shop\", \"My state\", \"My continent\"]\n",
    "df8_temp"
   ],
   "metadata": {
    "collapsed": false,
    "pycharm": {
     "name": "#%%\n"
    }
   }
  },
  {
   "cell_type": "code",
   "execution_count": 88,
   "outputs": [
    {
     "data": {
      "text/plain": "                    Address           City             State Country  \\\nID                                                                     \n1              3666 21st St  San Francisco          CA 94114     USA   \n2            735 Dolores St  San Francisco          CA 94119     USA   \n3               332 Hill St  San Francisco  California 94114     USA   \n4              3995 23rd St  San Francisco          CA 94114     USA   \n5           1056 Sanchez St  San Francisco        California     USA   \n6           551 Alvarado St  San Francisco          CA 94114     USA   \nMy Address          My City     My Country                10       7   \n\n                   Name Employees          Continent  \nID                                                    \n1               Madeira         8  USA,North America  \n2           Bready Shop        15  USA,North America  \n3           Super River        25  USA,North America  \n4            Ben's Shop        10  USA,North America  \n5               Sanchez        12  USA,North America  \n6            Richvalley        20  USA,North America  \nMy Address      My Shop  My state       My continent  ",
      "text/html": "<div>\n<style scoped>\n    .dataframe tbody tr th:only-of-type {\n        vertical-align: middle;\n    }\n\n    .dataframe tbody tr th {\n        vertical-align: top;\n    }\n\n    .dataframe thead th {\n        text-align: right;\n    }\n</style>\n<table border=\"1\" class=\"dataframe\">\n  <thead>\n    <tr style=\"text-align: right;\">\n      <th></th>\n      <th>Address</th>\n      <th>City</th>\n      <th>State</th>\n      <th>Country</th>\n      <th>Name</th>\n      <th>Employees</th>\n      <th>Continent</th>\n    </tr>\n    <tr>\n      <th>ID</th>\n      <th></th>\n      <th></th>\n      <th></th>\n      <th></th>\n      <th></th>\n      <th></th>\n      <th></th>\n    </tr>\n  </thead>\n  <tbody>\n    <tr>\n      <th>1</th>\n      <td>3666 21st St</td>\n      <td>San Francisco</td>\n      <td>CA 94114</td>\n      <td>USA</td>\n      <td>Madeira</td>\n      <td>8</td>\n      <td>USA,North America</td>\n    </tr>\n    <tr>\n      <th>2</th>\n      <td>735 Dolores St</td>\n      <td>San Francisco</td>\n      <td>CA 94119</td>\n      <td>USA</td>\n      <td>Bready Shop</td>\n      <td>15</td>\n      <td>USA,North America</td>\n    </tr>\n    <tr>\n      <th>3</th>\n      <td>332 Hill St</td>\n      <td>San Francisco</td>\n      <td>California 94114</td>\n      <td>USA</td>\n      <td>Super River</td>\n      <td>25</td>\n      <td>USA,North America</td>\n    </tr>\n    <tr>\n      <th>4</th>\n      <td>3995 23rd St</td>\n      <td>San Francisco</td>\n      <td>CA 94114</td>\n      <td>USA</td>\n      <td>Ben's Shop</td>\n      <td>10</td>\n      <td>USA,North America</td>\n    </tr>\n    <tr>\n      <th>5</th>\n      <td>1056 Sanchez St</td>\n      <td>San Francisco</td>\n      <td>California</td>\n      <td>USA</td>\n      <td>Sanchez</td>\n      <td>12</td>\n      <td>USA,North America</td>\n    </tr>\n    <tr>\n      <th>6</th>\n      <td>551 Alvarado St</td>\n      <td>San Francisco</td>\n      <td>CA 94114</td>\n      <td>USA</td>\n      <td>Richvalley</td>\n      <td>20</td>\n      <td>USA,North America</td>\n    </tr>\n    <tr>\n      <th>My Address</th>\n      <td>My City</td>\n      <td>My Country</td>\n      <td>10</td>\n      <td>7</td>\n      <td>My Shop</td>\n      <td>My state</td>\n      <td>My continent</td>\n    </tr>\n  </tbody>\n</table>\n</div>"
     },
     "execution_count": 88,
     "metadata": {},
     "output_type": "execute_result"
    }
   ],
   "source": [
    "df8 = df8_temp.T\n",
    "df8"
   ],
   "metadata": {
    "collapsed": false,
    "pycharm": {
     "name": "#%%\n"
    }
   }
  },
  {
   "cell_type": "code",
   "execution_count": 91,
   "outputs": [
    {
     "data": {
      "text/plain": "Location(3995 23rd St, San Francisco, California, 94114, (37.752990821253434, -122.43170235858965, 0.0))"
     },
     "execution_count": 91,
     "metadata": {},
     "output_type": "execute_result"
    }
   ],
   "source": [
    "from geopy.geocoders import ArcGIS\n",
    "nom=ArcGIS()\n",
    "nom.geocode(\"3995 23rd St, San Francisco, CA 94114\")"
   ],
   "metadata": {
    "collapsed": false,
    "pycharm": {
     "name": "#%%\n"
    }
   }
  },
  {
   "cell_type": "code",
   "execution_count": 93,
   "outputs": [
    {
     "data": {
      "text/plain": "   ID          Address           City             State Country         Name  \\\n0   1     3666 21st St  San Francisco          CA 94114     USA      Madeira   \n1   2   735 Dolores St  San Francisco          CA 94119     USA  Bready Shop   \n2   3      332 Hill St  San Francisco  California 94114     USA  Super River   \n3   4     3995 23rd St  San Francisco          CA 94114     USA   Ben's Shop   \n4   5  1056 Sanchez St  San Francisco        California     USA      Sanchez   \n5   6  551 Alvarado St  San Francisco          CA 94114     USA   Richvalley   \n\n   Employees  \n0          8  \n1         15  \n2         25  \n3         10  \n4         12  \n5         20  ",
      "text/html": "<div>\n<style scoped>\n    .dataframe tbody tr th:only-of-type {\n        vertical-align: middle;\n    }\n\n    .dataframe tbody tr th {\n        vertical-align: top;\n    }\n\n    .dataframe thead th {\n        text-align: right;\n    }\n</style>\n<table border=\"1\" class=\"dataframe\">\n  <thead>\n    <tr style=\"text-align: right;\">\n      <th></th>\n      <th>ID</th>\n      <th>Address</th>\n      <th>City</th>\n      <th>State</th>\n      <th>Country</th>\n      <th>Name</th>\n      <th>Employees</th>\n    </tr>\n  </thead>\n  <tbody>\n    <tr>\n      <th>0</th>\n      <td>1</td>\n      <td>3666 21st St</td>\n      <td>San Francisco</td>\n      <td>CA 94114</td>\n      <td>USA</td>\n      <td>Madeira</td>\n      <td>8</td>\n    </tr>\n    <tr>\n      <th>1</th>\n      <td>2</td>\n      <td>735 Dolores St</td>\n      <td>San Francisco</td>\n      <td>CA 94119</td>\n      <td>USA</td>\n      <td>Bready Shop</td>\n      <td>15</td>\n    </tr>\n    <tr>\n      <th>2</th>\n      <td>3</td>\n      <td>332 Hill St</td>\n      <td>San Francisco</td>\n      <td>California 94114</td>\n      <td>USA</td>\n      <td>Super River</td>\n      <td>25</td>\n    </tr>\n    <tr>\n      <th>3</th>\n      <td>4</td>\n      <td>3995 23rd St</td>\n      <td>San Francisco</td>\n      <td>CA 94114</td>\n      <td>USA</td>\n      <td>Ben's Shop</td>\n      <td>10</td>\n    </tr>\n    <tr>\n      <th>4</th>\n      <td>5</td>\n      <td>1056 Sanchez St</td>\n      <td>San Francisco</td>\n      <td>California</td>\n      <td>USA</td>\n      <td>Sanchez</td>\n      <td>12</td>\n    </tr>\n    <tr>\n      <th>5</th>\n      <td>6</td>\n      <td>551 Alvarado St</td>\n      <td>San Francisco</td>\n      <td>CA 94114</td>\n      <td>USA</td>\n      <td>Richvalley</td>\n      <td>20</td>\n    </tr>\n  </tbody>\n</table>\n</div>"
     },
     "execution_count": 93,
     "metadata": {},
     "output_type": "execute_result"
    }
   ],
   "source": [
    "import geopy\n",
    "df = pandas.read_csv(\"supermarkets.csv\")\n",
    "df\n",
    "\n"
   ],
   "metadata": {
    "collapsed": false,
    "pycharm": {
     "name": "#%%\n"
    }
   }
  },
  {
   "cell_type": "code",
   "execution_count": 94,
   "outputs": [
    {
     "data": {
      "text/plain": "   ID                                            Address           City  \\\n0   1         3666 21st St, San Francisco, CA 94114, USA  San Francisco   \n1   2       735 Dolores St, San Francisco, CA 94119, USA  San Francisco   \n2   3  332 Hill St, San Francisco, California 94114, USA  San Francisco   \n3   4         3995 23rd St, San Francisco, CA 94114, USA  San Francisco   \n4   5    1056 Sanchez St, San Francisco, California, USA  San Francisco   \n5   6      551 Alvarado St, San Francisco, CA 94114, USA  San Francisco   \n\n              State Country         Name  Employees  \n0          CA 94114     USA      Madeira          8  \n1          CA 94119     USA  Bready Shop         15  \n2  California 94114     USA  Super River         25  \n3          CA 94114     USA   Ben's Shop         10  \n4        California     USA      Sanchez         12  \n5          CA 94114     USA   Richvalley         20  ",
      "text/html": "<div>\n<style scoped>\n    .dataframe tbody tr th:only-of-type {\n        vertical-align: middle;\n    }\n\n    .dataframe tbody tr th {\n        vertical-align: top;\n    }\n\n    .dataframe thead th {\n        text-align: right;\n    }\n</style>\n<table border=\"1\" class=\"dataframe\">\n  <thead>\n    <tr style=\"text-align: right;\">\n      <th></th>\n      <th>ID</th>\n      <th>Address</th>\n      <th>City</th>\n      <th>State</th>\n      <th>Country</th>\n      <th>Name</th>\n      <th>Employees</th>\n    </tr>\n  </thead>\n  <tbody>\n    <tr>\n      <th>0</th>\n      <td>1</td>\n      <td>3666 21st St, San Francisco, CA 94114, USA</td>\n      <td>San Francisco</td>\n      <td>CA 94114</td>\n      <td>USA</td>\n      <td>Madeira</td>\n      <td>8</td>\n    </tr>\n    <tr>\n      <th>1</th>\n      <td>2</td>\n      <td>735 Dolores St, San Francisco, CA 94119, USA</td>\n      <td>San Francisco</td>\n      <td>CA 94119</td>\n      <td>USA</td>\n      <td>Bready Shop</td>\n      <td>15</td>\n    </tr>\n    <tr>\n      <th>2</th>\n      <td>3</td>\n      <td>332 Hill St, San Francisco, California 94114, USA</td>\n      <td>San Francisco</td>\n      <td>California 94114</td>\n      <td>USA</td>\n      <td>Super River</td>\n      <td>25</td>\n    </tr>\n    <tr>\n      <th>3</th>\n      <td>4</td>\n      <td>3995 23rd St, San Francisco, CA 94114, USA</td>\n      <td>San Francisco</td>\n      <td>CA 94114</td>\n      <td>USA</td>\n      <td>Ben's Shop</td>\n      <td>10</td>\n    </tr>\n    <tr>\n      <th>4</th>\n      <td>5</td>\n      <td>1056 Sanchez St, San Francisco, California, USA</td>\n      <td>San Francisco</td>\n      <td>California</td>\n      <td>USA</td>\n      <td>Sanchez</td>\n      <td>12</td>\n    </tr>\n    <tr>\n      <th>5</th>\n      <td>6</td>\n      <td>551 Alvarado St, San Francisco, CA 94114, USA</td>\n      <td>San Francisco</td>\n      <td>CA 94114</td>\n      <td>USA</td>\n      <td>Richvalley</td>\n      <td>20</td>\n    </tr>\n  </tbody>\n</table>\n</div>"
     },
     "execution_count": 94,
     "metadata": {},
     "output_type": "execute_result"
    }
   ],
   "source": [
    "df[\"Address\"] = df[\"Address\"] + \", \" + df[\"City\"] + \", \" + df[\"State\"] + \", \" + df[\"Country\"]\n",
    "df"
   ],
   "metadata": {
    "collapsed": false,
    "pycharm": {
     "name": "#%%\n"
    }
   }
  },
  {
   "cell_type": "code",
   "execution_count": 97,
   "outputs": [
    {
     "data": {
      "text/plain": "Location(3666 21st St, San Francisco, California, 94114, (37.7564496899993, -122.42936434915458, 0.0))"
     },
     "execution_count": 97,
     "metadata": {},
     "output_type": "execute_result"
    }
   ],
   "source": [
    "df[\"Coordinates\"]=df[\"Address\"].apply(nom.geocode)\n",
    "df.Coordinates\n"
   ],
   "metadata": {
    "collapsed": false,
    "pycharm": {
     "name": "#%%\n"
    }
   }
  },
  {
   "cell_type": "code",
   "execution_count": 102,
   "outputs": [
    {
     "data": {
      "text/plain": "   ID                                            Address           City  \\\n0   1         3666 21st St, San Francisco, CA 94114, USA  San Francisco   \n1   2       735 Dolores St, San Francisco, CA 94119, USA  San Francisco   \n2   3  332 Hill St, San Francisco, California 94114, USA  San Francisco   \n3   4         3995 23rd St, San Francisco, CA 94114, USA  San Francisco   \n4   5    1056 Sanchez St, San Francisco, California, USA  San Francisco   \n5   6      551 Alvarado St, San Francisco, CA 94114, USA  San Francisco   \n\n              State Country         Name  Employees  \\\n0          CA 94114     USA      Madeira          8   \n1          CA 94119     USA  Bready Shop         15   \n2  California 94114     USA  Super River         25   \n3          CA 94114     USA   Ben's Shop         10   \n4        California     USA      Sanchez         12   \n5          CA 94114     USA   Richvalley         20   \n\n                                         Coordinates   Latitude   Longitude  \n0  (3666 21st St, San Francisco, California, 9411...  37.756450 -122.429364  \n1  (735 Dolores St, San Francisco, California, 94...  37.757796 -122.425597  \n2  (332 Hill St, San Francisco, California, 94114...  37.755648 -122.428803  \n3  (3995 23rd St, San Francisco, California, 9411...  37.752991 -122.431702  \n4  (1056 Sanchez St, San Francisco, California, 9...  37.752129 -122.430028  \n5  (551 Alvarado St, San Francisco, California, 9...  37.753719 -122.433240  ",
      "text/html": "<div>\n<style scoped>\n    .dataframe tbody tr th:only-of-type {\n        vertical-align: middle;\n    }\n\n    .dataframe tbody tr th {\n        vertical-align: top;\n    }\n\n    .dataframe thead th {\n        text-align: right;\n    }\n</style>\n<table border=\"1\" class=\"dataframe\">\n  <thead>\n    <tr style=\"text-align: right;\">\n      <th></th>\n      <th>ID</th>\n      <th>Address</th>\n      <th>City</th>\n      <th>State</th>\n      <th>Country</th>\n      <th>Name</th>\n      <th>Employees</th>\n      <th>Coordinates</th>\n      <th>Latitude</th>\n      <th>Longitude</th>\n    </tr>\n  </thead>\n  <tbody>\n    <tr>\n      <th>0</th>\n      <td>1</td>\n      <td>3666 21st St, San Francisco, CA 94114, USA</td>\n      <td>San Francisco</td>\n      <td>CA 94114</td>\n      <td>USA</td>\n      <td>Madeira</td>\n      <td>8</td>\n      <td>(3666 21st St, San Francisco, California, 9411...</td>\n      <td>37.756450</td>\n      <td>-122.429364</td>\n    </tr>\n    <tr>\n      <th>1</th>\n      <td>2</td>\n      <td>735 Dolores St, San Francisco, CA 94119, USA</td>\n      <td>San Francisco</td>\n      <td>CA 94119</td>\n      <td>USA</td>\n      <td>Bready Shop</td>\n      <td>15</td>\n      <td>(735 Dolores St, San Francisco, California, 94...</td>\n      <td>37.757796</td>\n      <td>-122.425597</td>\n    </tr>\n    <tr>\n      <th>2</th>\n      <td>3</td>\n      <td>332 Hill St, San Francisco, California 94114, USA</td>\n      <td>San Francisco</td>\n      <td>California 94114</td>\n      <td>USA</td>\n      <td>Super River</td>\n      <td>25</td>\n      <td>(332 Hill St, San Francisco, California, 94114...</td>\n      <td>37.755648</td>\n      <td>-122.428803</td>\n    </tr>\n    <tr>\n      <th>3</th>\n      <td>4</td>\n      <td>3995 23rd St, San Francisco, CA 94114, USA</td>\n      <td>San Francisco</td>\n      <td>CA 94114</td>\n      <td>USA</td>\n      <td>Ben's Shop</td>\n      <td>10</td>\n      <td>(3995 23rd St, San Francisco, California, 9411...</td>\n      <td>37.752991</td>\n      <td>-122.431702</td>\n    </tr>\n    <tr>\n      <th>4</th>\n      <td>5</td>\n      <td>1056 Sanchez St, San Francisco, California, USA</td>\n      <td>San Francisco</td>\n      <td>California</td>\n      <td>USA</td>\n      <td>Sanchez</td>\n      <td>12</td>\n      <td>(1056 Sanchez St, San Francisco, California, 9...</td>\n      <td>37.752129</td>\n      <td>-122.430028</td>\n    </tr>\n    <tr>\n      <th>5</th>\n      <td>6</td>\n      <td>551 Alvarado St, San Francisco, CA 94114, USA</td>\n      <td>San Francisco</td>\n      <td>CA 94114</td>\n      <td>USA</td>\n      <td>Richvalley</td>\n      <td>20</td>\n      <td>(551 Alvarado St, San Francisco, California, 9...</td>\n      <td>37.753719</td>\n      <td>-122.433240</td>\n    </tr>\n  </tbody>\n</table>\n</div>"
     },
     "execution_count": 102,
     "metadata": {},
     "output_type": "execute_result"
    }
   ],
   "source": [
    "df['Latitude']=df[\"Coordinates\"].apply(lambda x: x.latitude if x is not None else None)\n",
    "df['Longitude']=df[\"Coordinates\"].apply(lambda x: x.longitude if x is not None else None)\n",
    "df"
   ],
   "metadata": {
    "collapsed": false,
    "pycharm": {
     "name": "#%%\n"
    }
   }
  }
 ],
 "metadata": {
  "kernelspec": {
   "display_name": "Python 3",
   "language": "python",
   "name": "python3"
  },
  "language_info": {
   "codemirror_mode": {
    "name": "ipython",
    "version": 2
   },
   "file_extension": ".py",
   "mimetype": "text/x-python",
   "name": "python",
   "nbconvert_exporter": "python",
   "pygments_lexer": "ipython2",
   "version": "2.7.6"
  }
 },
 "nbformat": 4,
 "nbformat_minor": 0
}